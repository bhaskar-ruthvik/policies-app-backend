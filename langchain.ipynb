{
 "cells": [
  {
   "cell_type": "code",
   "execution_count": 90,
   "metadata": {},
   "outputs": [
    {
     "data": {
      "text/plain": [
       "True"
      ]
     },
     "execution_count": 90,
     "metadata": {},
     "output_type": "execute_result"
    }
   ],
   "source": [
    "import os\n",
    "\n",
    "import dotenv\n",
    "\n",
    "dotenv.load_dotenv()"
   ]
  },
  {
   "cell_type": "code",
   "execution_count": 91,
   "metadata": {},
   "outputs": [],
   "source": [
    "openai_api_key = os.environ.get('OPENAI_API_KEY')"
   ]
  },
  {
   "cell_type": "code",
   "execution_count": 92,
   "metadata": {},
   "outputs": [],
   "source": [
    "llm_model = \"gpt-4-0125-preview\"\n"
   ]
  },
  {
   "cell_type": "code",
   "execution_count": 93,
   "metadata": {},
   "outputs": [
    {
     "name": "stdout",
     "output_type": "stream",
     "text": [
      "How to avail the aid available for women affected by HIV without support?\n"
     ]
    }
   ],
   "source": [
    "from langchain.chat_models import ChatOpenAI\n",
    "from langchain.prompts import ChatPromptTemplate\n",
    "from langchain.chains import LLMChain\n",
    "\n",
    "user_input_eng = \"How to avail the aid available for women affected by HIV without support?\"\n",
    "\n",
    "\n",
    "\n",
    "llm = ChatOpenAI(temperature=0, model=llm_model, openai_api_key = openai_api_key)\n",
    "\n",
    "# prompt_a = ChatPromptTemplate.from_template(\n",
    "#     \"\"\"Convert the user input into English accurately: {user_input}.\"\"\"\n",
    "# )\n",
    "\n",
    "# chain = LLMChain(llm = llm, prompt=prompt_a)\n",
    "\n",
    "# user_input_eng = chain.run(user_input = user_input)\n",
    "\n",
    "print(user_input_eng)\n"
   ]
  },
  {
   "cell_type": "code",
   "execution_count": 94,
   "metadata": {},
   "outputs": [],
   "source": [
    "#categorising the prompts into 3 types and accorindgly building the future pipeline\n",
    "\n",
    "prompt_categ = ChatPromptTemplate.from_template(\n",
    "    \"\"\"Task Overview:\n",
    "Your objective is to categorize any presented question into one of the following distinct types, based on the nature of the response it seeks:\n",
    "\n",
    "Procedure-Based Questions:\n",
    "Definition: These questions require a detailed, step-by-step guide or process as an answer. They are focused on how to accomplish a specific task or achieve a particular outcome.\n",
    "Key Indicators: Look for questions that ask \"How to,\" \"What are the steps,\" or \"What should I do to.\"\n",
    "Examples:\n",
    "\"How can a woman with no financial support find a safe place to live?\"\n",
    "\"I want to buy a house. How much money can I withdraw from my PF?\"\n",
    "\"How do I get support if I lost my job and need money?\"\n",
    "Yes/No Questions:\n",
    "Definition: These questions can be directly answered with a \"Yes\" or \"No,\" potentially followed by a succinct explanation. They typically inquire about the possibility, availability, or existence of something.\n",
    "Key Indicators: Questions that can be directly responded to with a binary answer.\n",
    "Examples:\n",
    "\"Can women who left home due to violence get shelter?\"\n",
    "\"Is there support for women who have been trafficked?\"\n",
    "\"Are children allowed in shelters for women in difficulty?\"\n",
    "Informative Paragraph Questions:\n",
    "Definition: These questions demand an answer in the form of a comprehensive, informative paragraph. They generally request explanations, definitions, or detailed information about a specific subject.\n",
    "Key Indicators: Questions that ask \"What,\" \"Which,\" or \"Who\" that seek detailed information or explanation, but not in a step-by-step format.\n",
    "Examples:\n",
    "\"What aid is available for women affected by HIV without support?\"\n",
    "\"Which programs offer help for women in India above 58?\"\n",
    "\"What aid is there for students from poor families for higher education?\"\n",
    "\n",
    "\n",
    "Now which category does this {user_input_eng} belong to?\n",
    "The answer should exactly with no other text be one of the following:\n",
    "Procedure-Based Question\n",
    "Yes/No Question\n",
    "Informative Paragraph Question\n",
    "\"\"\"\n",
    ")\n"
   ]
  },
  {
   "cell_type": "code",
   "execution_count": 95,
   "metadata": {},
   "outputs": [
    {
     "name": "stdout",
     "output_type": "stream",
     "text": [
      "Procedure-Based Question\n"
     ]
    }
   ],
   "source": [
    "chain = LLMChain(llm = llm, prompt = prompt_categ)\n",
    "\n",
    "category = chain.run(user_input_eng = user_input_eng)\n",
    "print(category)\n"
   ]
  },
  {
   "cell_type": "code",
   "execution_count": 96,
   "metadata": {},
   "outputs": [],
   "source": [
    "prompt_what = ChatPromptTemplate.from_template(\n",
    "\"\"\"Your job is to answer questions that need a bit more detail but keep your answers easy to understand. Follow these guidelines to help you:\n",
    "\n",
    "1. *Use Simple Language:* Explain things using basic words and short sentences. Avoid big or complicated words.\n",
    "\n",
    "2. *Stick to the Facts:* Give answers based on real information. Don’t guess or make things up. Make sure what you say is true for India.\n",
    "\n",
    "3. *Answer in Points:* Break down your answer into clear, numbered points. This makes it easier to read and understand.\n",
    "\n",
    "4. *Keep Context in Mind:* Remember, your answers should make sense to someone living in India. Use examples or explanations that fit with what's common or known in India.\n",
    "\n",
    "When answering a question that asks for a detailed explanation on a topic (like explaining a concept or providing a list of needed items or steps), use these rules to create your response. Aim to be helpful and clear without using complicated language or ideas.\n",
    "Here is the question : {user_input_eng}\"\"\")"
   ]
  },
  {
   "cell_type": "code",
   "execution_count": 97,
   "metadata": {},
   "outputs": [],
   "source": [
    "prompt_is = ChatPromptTemplate.from_template(\n",
    "\"\"\"Your main task is to give a clear 'Yes' or 'No' answer to the question asked. After you answer, add a short paragraph explaining your answer in a simple way. Here’s how to do it:\n",
    "\n",
    "1. *Start with a Clear Answer:* Begin by saying 'Yes' or 'No'. This makes sure the person asking knows the answer right away.\n",
    "\n",
    "2. *Explain in Simple Words:* After your clear 'Yes' or 'No', explain why this is the answer. Use easy words and short sentences that anyone can understand.\n",
    "\n",
    "3. *Keep it Relevant to India:* Make sure your explanation is accurate for someone in India. Use examples or reasons that make sense in the Indian context.\n",
    "\n",
    "4. *Be Positive and Helpful:* Even if the answer is 'No', try to keep your explanation positive and helpful. If possible, offer a brief suggestion or an alternative idea.\n",
    "\n",
    "Your goal is to provide straightforward, helpful answers that anyone can understand, especially focusing on topics relevant to India. This approach helps make sure your response is both useful and easy to read for people with different levels of reading skills.\n",
    "Here is the question : {user_input_eng}\"\"\")"
   ]
  },
  {
   "cell_type": "code",
   "execution_count": 98,
   "metadata": {},
   "outputs": [],
   "source": [
    "\n",
    "prompt_how = ChatPromptTemplate.from_template(\n",
    "    \"\"\"When you receive a question that needs a step-by-step answer, your task is to break it down into simpler, straightforward Yes/No questions. These questions should guide someone with little to no background knowledge through understanding and action. Here’s how you can do it effectively:\n",
    "\n",
    "Create Simple Yes/No Questions: Turn the main question into smaller questions that can be answered with a 'Yes' or a 'No'. Each question should be easy to understand, using basic language.\n",
    "\n",
    "Design a Flowchart: Arrange these Yes/No questions in a flowchart format. This means that each 'Yes' or 'No' answer will lead to the next step or question. Ensure the flowchart is logical and guides the user towards a final answer or action.\n",
    "\n",
    "Provide Clear Outcomes: For every possible path through the Yes/No questions (every combination of 'Yes' and 'No' answers), give a clear, final outcome. This outcome should be straightforward and offer guidance or information in response to the original question.\n",
    "\n",
    "Keep it Relevant to India: Make sure your questions and outcomes are suitable and accurate for someone in India. Use examples, language, and context that make sense locally.\n",
    "\n",
    "Be Elaborate and Accurate: Even though the language should be simple, ensure your answers cover all necessary details and are correct. Aim to leave no room for confusion or misinterpretation.\n",
    "\n",
    "At the end of the flowchart, based on the paths taken through the Yes/No questions, provide a final answer or advice that directly addresses the user's original query. Remember, your goal is to make the process as clear and helpful as possible, even for someone who might not be familiar with the topic.\n",
    "Here is the question: {user_input_eng}\"\"\"\n",
    ")\n"
   ]
  },
  {
   "cell_type": "code",
   "execution_count": 99,
   "metadata": {},
   "outputs": [
    {
     "name": "stdout",
     "output_type": "stream",
     "text": [
      "To create a step-by-step guide for availing aid available for women affected by HIV without support in India, we'll break down the process into simple Yes/No questions. This guide will help navigate through the available support systems and how to access them.\n",
      "\n",
      "### Step 1: Identify the Need for Aid\n",
      "\n",
      "1. **Are you a woman affected by HIV?**\n",
      "   - Yes: Proceed to question 2.\n",
      "   - No: This guide is specifically for women affected by HIV in India. If you're seeking information for someone else, you can proceed to help them.\n",
      "\n",
      "2. **Do you lack support from family or community?**\n",
      "   - Yes: Proceed to question 3.\n",
      "   - No: If you have support but still need aid, proceed to question 3.\n",
      "\n",
      "### Step 2: Understanding the Type of Aid Needed\n",
      "\n",
      "3. **Do you need medical support (treatment/medication)?**\n",
      "   - Yes: Proceed to question 4.\n",
      "   - No: Proceed to question 5.\n",
      "\n",
      "4. **Are you currently enrolled in any government or private health care program for HIV?**\n",
      "   - Yes: Contact the program directly for further assistance.\n",
      "   - No: Proceed to the section on \"Accessing Medical Support\".\n",
      "\n",
      "5. **Do you need financial assistance?**\n",
      "   - Yes: Proceed to the section on \"Accessing Financial Assistance\".\n",
      "   - No: Proceed to question 6.\n",
      "\n",
      "6. **Do you need emotional or psychological support?**\n",
      "   - Yes: Proceed to the section on \"Accessing Emotional Support\".\n",
      "   - No: If you do not need medical, financial, or emotional support, please specify your needs to find the appropriate aid.\n",
      "\n",
      "### Accessing Medical Support\n",
      "\n",
      "- **Visit the nearest government hospital or health care center.** Government hospitals in India offer ART (Antiretroviral Therapy) for HIV/AIDS patients free of cost.\n",
      "- **Contact the National AIDS Control Organisation (NACO) or its state counterparts.** They can provide information on accessing treatment, care, and support services.\n",
      "\n",
      "### Accessing Financial Assistance\n",
      "\n",
      "- **Apply for benefits under the National Social Assistance Programme (NSAP).** This includes pensions for widows and financial aid for individuals in need.\n",
      "- **Check eligibility for schemes under the Ministry of Women and Child Development.** Some schemes offer financial support to women in distress, including those affected by HIV/AIDS.\n",
      "\n",
      "### Accessing Emotional Support\n",
      "\n",
      "- **Reach out to NGOs and support groups for women with HIV/AIDS.** Organizations like the Indian Network for People living with HIV/AIDS (INP+) can provide emotional support and counseling.\n",
      "- **Contact the National Helpline for AIDS.** They offer counseling services and can guide you to local support groups and resources.\n",
      "\n",
      "### Final Outcome\n",
      "\n",
      "Based on the paths taken through the Yes/No questions:\n",
      "\n",
      "- If you identified a need for medical, financial, or emotional support and followed the steps to access these services, you should now have a clearer understanding of how to avail the aid available for women affected by HIV without support in India.\n",
      "- Remember, it's important to reach out and connect with the resources mentioned. Assistance is available, and taking the first step to access this aid can make a significant difference in managing HIV and improving your quality of life.\n"
     ]
    }
   ],
   "source": [
    "if category == \"Procedure-Based Question\":\n",
    "    chain = LLMChain(llm = llm, prompt = prompt_how)\n",
    "    response = chain.run(user_input_eng = user_input_eng)\n",
    "    print(response)\n",
    "elif category == \"Yes/No Question\":\n",
    "    chain = LLMChain(llm = llm, prompt = prompt_is)\n",
    "    response = chain.run(user_input_eng = user_input_eng)\n",
    "    print(response)\n",
    "elif category == \"Informative Paragraph Question\":\n",
    "    chain = LLMChain(llm = llm, prompt = prompt_what)\n",
    "    response = chain.run(user_input_eng = user_input_eng)\n",
    "    print(response)"
   ]
  },
  {
   "cell_type": "code",
   "execution_count": 100,
   "metadata": {},
   "outputs": [],
   "source": [
    "import re\n",
    "headMatcher = re.compile(r\"#+\\s+.+:\")"
   ]
  },
  {
   "cell_type": "code",
   "execution_count": 101,
   "metadata": {},
   "outputs": [],
   "source": [
    "steps = response.split(\"\\n\\n\")"
   ]
  },
  {
   "cell_type": "code",
   "execution_count": 102,
   "metadata": {},
   "outputs": [
    {
     "name": "stdout",
     "output_type": "stream",
     "text": [
      "None\n",
      "Step 1:\n",
      "None\n",
      "None\n",
      "Step 2:\n",
      "None\n",
      "None\n",
      "None\n",
      "None\n",
      "None\n",
      "None\n",
      "None\n",
      "None\n",
      "None\n",
      "None\n",
      "None\n",
      "None\n",
      "None\n"
     ]
    }
   ],
   "source": [
    "for step in steps: \n",
    "    if headMatcher.search(step)!= None:\n",
    "        print(headMatcher.search(step).group().split(\"# \")[1])\n",
    "    else:\n",
    "        print(\"None\")"
   ]
  },
  {
   "cell_type": "code",
   "execution_count": 103,
   "metadata": {},
   "outputs": [],
   "source": [
    "questionMatcher = re.compile(r\"\\*\\*.*\\*\\*\")"
   ]
  },
  {
   "cell_type": "code",
   "execution_count": 104,
   "metadata": {},
   "outputs": [],
   "source": [
    "answerMatcher = re.compile(r\"-\\s+Yes:.+[^\\n]\")"
   ]
  },
  {
   "cell_type": "code",
   "execution_count": 105,
   "metadata": {},
   "outputs": [],
   "source": [
    "noMatcher = re.compile(r\"-\\s+No:.+[^\\n]\")"
   ]
  },
  {
   "cell_type": "code",
   "execution_count": 106,
   "metadata": {},
   "outputs": [],
   "source": [
    "questions = []"
   ]
  },
  {
   "cell_type": "code",
   "execution_count": 107,
   "metadata": {},
   "outputs": [
    {
     "name": "stdout",
     "output_type": "stream",
     "text": [
      "None\n",
      "None\n",
      "Are you a woman affected by HIV?\n",
      "Do you lack support from family or community?\n",
      "None\n",
      "Do you need medical support (treatment/medication)?\n",
      "Are you currently enrolled in any government or private health care program for HIV?\n",
      "Do you need financial assistance?\n",
      "Do you need emotional or psychological support?\n",
      "None\n",
      "Visit the nearest government hospital or health care center.\n",
      "None\n",
      "Apply for benefits under the National Social Assistance Programme (NSAP).\n",
      "None\n",
      "Reach out to NGOs and support groups for women with HIV/AIDS.\n",
      "None\n",
      "None\n",
      "None\n"
     ]
    }
   ],
   "source": [
    "for step in steps:\n",
    "    if questionMatcher.search(step) != None:\n",
    "        print(questionMatcher.search(step).group().split(\"**\")[1])\n",
    "        questions.append(questionMatcher.search(step).group().split(\"**\")[1])\n",
    "    else:\n",
    "        questions.append(None)\n",
    "        print(\"None\")"
   ]
  },
  {
   "cell_type": "code",
   "execution_count": 108,
   "metadata": {},
   "outputs": [],
   "source": [
    "yes_actions = []\n",
    "no_actions = []"
   ]
  },
  {
   "cell_type": "code",
   "execution_count": 109,
   "metadata": {},
   "outputs": [
    {
     "name": "stdout",
     "output_type": "stream",
     "text": [
      "None\n",
      "None\n",
      "2.\n",
      "3.\n",
      "None\n",
      "4.\n",
      "Contact the program directly for further assistance.\n",
      "Proceed to the section on \"Accessing Financial Assistance\".\n",
      "Proceed to the section on \"Accessing Emotional Support\".\n",
      "None\n",
      "None\n",
      "None\n",
      "None\n",
      "None\n",
      "None\n",
      "None\n",
      "None\n",
      "None\n"
     ]
    }
   ],
   "source": [
    "for step in steps:\n",
    "    if answerMatcher.search(step) != None:\n",
    "        if len(answerMatcher.search(step).group().split(\": \")[1].split(r\"question \"))> 1:\n",
    "            print(answerMatcher.search(step).group().split(\": \")[1].split(r\"question \")[1])\n",
    "            yes_actions.append(int(answerMatcher.search(step).group().split(\": \")[1].split(r\"question \")[1].split(\" \")[0].split(\".\")[0]))\n",
    "        else:\n",
    "            yes_actions.append(answerMatcher.search(step).group().split(\": \")[1])\n",
    "            print(answerMatcher.search(step).group().split(\": \")[1])\n",
    "    else:\n",
    "        yes_actions.append(None)\n",
    "        print(\"None\")"
   ]
  },
  {
   "cell_type": "code",
   "execution_count": 110,
   "metadata": {},
   "outputs": [
    {
     "name": "stdout",
     "output_type": "stream",
     "text": [
      "None\n",
      "None\n",
      "This guide is specifically for women affected by HIV in India. If you're seeking information for someone else, you can proceed to help them.\n",
      "3\n",
      "None\n",
      "5\n",
      "Proceed to the section on \"Accessing Medical Support\".\n",
      "6\n",
      "If you do not need medical, financial, or emotional support, please specify your needs to find the appropriate aid.\n",
      "None\n",
      "None\n",
      "None\n",
      "None\n",
      "None\n",
      "None\n",
      "None\n",
      "None\n",
      "None\n"
     ]
    }
   ],
   "source": [
    "for step in steps:\n",
    "    if noMatcher.search(step) != None:\n",
    "        if len(noMatcher.search(step).group().split(\": \")[1].split(r\"question \"))> 1:\n",
    "            print(noMatcher.search(step).group().split(\": \")[1].split(r\"question \")[1].split(\" \")[0].split(\".\")[0])\n",
    "            no_actions.append(int(noMatcher.search(step).group().split(\": \")[1].split(r\"question \")[1].split(\" \")[0].split(\".\")[0]))\n",
    "        else:\n",
    "            no_actions.append(noMatcher.search(step).group().split(\": \")[1])\n",
    "            print(noMatcher.search(step).group().split(\": \")[1])\n",
    "    else:\n",
    "        no_actions.append(None)\n",
    "        print(\"None\")"
   ]
  },
  {
   "cell_type": "code",
   "execution_count": 111,
   "metadata": {},
   "outputs": [],
   "source": [
    "import pandas as pd"
   ]
  },
  {
   "cell_type": "code",
   "execution_count": 112,
   "metadata": {},
   "outputs": [
    {
     "data": {
      "text/plain": [
       "(18, 18, 18)"
      ]
     },
     "execution_count": 112,
     "metadata": {},
     "output_type": "execute_result"
    }
   ],
   "source": [
    "len(questions),len(yes_actions),len(no_actions)"
   ]
  },
  {
   "cell_type": "code",
   "execution_count": 113,
   "metadata": {},
   "outputs": [],
   "source": [
    "df = pd.DataFrame({\n",
    "    \"Questions\" :questions,\n",
    "    \"Yes\" : yes_actions,\n",
    "    \"No\" : no_actions}\n",
    "    )"
   ]
  },
  {
   "cell_type": "code",
   "execution_count": 114,
   "metadata": {},
   "outputs": [
    {
     "data": {
      "text/html": [
       "<div>\n",
       "<style scoped>\n",
       "    .dataframe tbody tr th:only-of-type {\n",
       "        vertical-align: middle;\n",
       "    }\n",
       "\n",
       "    .dataframe tbody tr th {\n",
       "        vertical-align: top;\n",
       "    }\n",
       "\n",
       "    .dataframe thead th {\n",
       "        text-align: right;\n",
       "    }\n",
       "</style>\n",
       "<table border=\"1\" class=\"dataframe\">\n",
       "  <thead>\n",
       "    <tr style=\"text-align: right;\">\n",
       "      <th></th>\n",
       "      <th>Questions</th>\n",
       "      <th>Yes</th>\n",
       "      <th>No</th>\n",
       "    </tr>\n",
       "  </thead>\n",
       "  <tbody>\n",
       "    <tr>\n",
       "      <th>0</th>\n",
       "      <td>None</td>\n",
       "      <td>None</td>\n",
       "      <td>None</td>\n",
       "    </tr>\n",
       "    <tr>\n",
       "      <th>1</th>\n",
       "      <td>None</td>\n",
       "      <td>None</td>\n",
       "      <td>None</td>\n",
       "    </tr>\n",
       "    <tr>\n",
       "      <th>2</th>\n",
       "      <td>Are you a woman affected by HIV?</td>\n",
       "      <td>2</td>\n",
       "      <td>This guide is specifically for women affected ...</td>\n",
       "    </tr>\n",
       "    <tr>\n",
       "      <th>3</th>\n",
       "      <td>Do you lack support from family or community?</td>\n",
       "      <td>3</td>\n",
       "      <td>3</td>\n",
       "    </tr>\n",
       "    <tr>\n",
       "      <th>4</th>\n",
       "      <td>None</td>\n",
       "      <td>None</td>\n",
       "      <td>None</td>\n",
       "    </tr>\n",
       "    <tr>\n",
       "      <th>5</th>\n",
       "      <td>Do you need medical support (treatment/medicat...</td>\n",
       "      <td>4</td>\n",
       "      <td>5</td>\n",
       "    </tr>\n",
       "    <tr>\n",
       "      <th>6</th>\n",
       "      <td>Are you currently enrolled in any government o...</td>\n",
       "      <td>Contact the program directly for further assis...</td>\n",
       "      <td>Proceed to the section on \"Accessing Medical S...</td>\n",
       "    </tr>\n",
       "    <tr>\n",
       "      <th>7</th>\n",
       "      <td>Do you need financial assistance?</td>\n",
       "      <td>Proceed to the section on \"Accessing Financial...</td>\n",
       "      <td>6</td>\n",
       "    </tr>\n",
       "    <tr>\n",
       "      <th>8</th>\n",
       "      <td>Do you need emotional or psychological support?</td>\n",
       "      <td>Proceed to the section on \"Accessing Emotional...</td>\n",
       "      <td>If you do not need medical, financial, or emot...</td>\n",
       "    </tr>\n",
       "    <tr>\n",
       "      <th>9</th>\n",
       "      <td>None</td>\n",
       "      <td>None</td>\n",
       "      <td>None</td>\n",
       "    </tr>\n",
       "    <tr>\n",
       "      <th>10</th>\n",
       "      <td>Visit the nearest government hospital or healt...</td>\n",
       "      <td>None</td>\n",
       "      <td>None</td>\n",
       "    </tr>\n",
       "    <tr>\n",
       "      <th>11</th>\n",
       "      <td>None</td>\n",
       "      <td>None</td>\n",
       "      <td>None</td>\n",
       "    </tr>\n",
       "    <tr>\n",
       "      <th>12</th>\n",
       "      <td>Apply for benefits under the National Social A...</td>\n",
       "      <td>None</td>\n",
       "      <td>None</td>\n",
       "    </tr>\n",
       "    <tr>\n",
       "      <th>13</th>\n",
       "      <td>None</td>\n",
       "      <td>None</td>\n",
       "      <td>None</td>\n",
       "    </tr>\n",
       "    <tr>\n",
       "      <th>14</th>\n",
       "      <td>Reach out to NGOs and support groups for women...</td>\n",
       "      <td>None</td>\n",
       "      <td>None</td>\n",
       "    </tr>\n",
       "    <tr>\n",
       "      <th>15</th>\n",
       "      <td>None</td>\n",
       "      <td>None</td>\n",
       "      <td>None</td>\n",
       "    </tr>\n",
       "    <tr>\n",
       "      <th>16</th>\n",
       "      <td>None</td>\n",
       "      <td>None</td>\n",
       "      <td>None</td>\n",
       "    </tr>\n",
       "    <tr>\n",
       "      <th>17</th>\n",
       "      <td>None</td>\n",
       "      <td>None</td>\n",
       "      <td>None</td>\n",
       "    </tr>\n",
       "  </tbody>\n",
       "</table>\n",
       "</div>"
      ],
      "text/plain": [
       "                                            Questions  \\\n",
       "0                                                None   \n",
       "1                                                None   \n",
       "2                    Are you a woman affected by HIV?   \n",
       "3       Do you lack support from family or community?   \n",
       "4                                                None   \n",
       "5   Do you need medical support (treatment/medicat...   \n",
       "6   Are you currently enrolled in any government o...   \n",
       "7                   Do you need financial assistance?   \n",
       "8     Do you need emotional or psychological support?   \n",
       "9                                                None   \n",
       "10  Visit the nearest government hospital or healt...   \n",
       "11                                               None   \n",
       "12  Apply for benefits under the National Social A...   \n",
       "13                                               None   \n",
       "14  Reach out to NGOs and support groups for women...   \n",
       "15                                               None   \n",
       "16                                               None   \n",
       "17                                               None   \n",
       "\n",
       "                                                  Yes  \\\n",
       "0                                                None   \n",
       "1                                                None   \n",
       "2                                                   2   \n",
       "3                                                   3   \n",
       "4                                                None   \n",
       "5                                                   4   \n",
       "6   Contact the program directly for further assis...   \n",
       "7   Proceed to the section on \"Accessing Financial...   \n",
       "8   Proceed to the section on \"Accessing Emotional...   \n",
       "9                                                None   \n",
       "10                                               None   \n",
       "11                                               None   \n",
       "12                                               None   \n",
       "13                                               None   \n",
       "14                                               None   \n",
       "15                                               None   \n",
       "16                                               None   \n",
       "17                                               None   \n",
       "\n",
       "                                                   No  \n",
       "0                                                None  \n",
       "1                                                None  \n",
       "2   This guide is specifically for women affected ...  \n",
       "3                                                   3  \n",
       "4                                                None  \n",
       "5                                                   5  \n",
       "6   Proceed to the section on \"Accessing Medical S...  \n",
       "7                                                   6  \n",
       "8   If you do not need medical, financial, or emot...  \n",
       "9                                                None  \n",
       "10                                               None  \n",
       "11                                               None  \n",
       "12                                               None  \n",
       "13                                               None  \n",
       "14                                               None  \n",
       "15                                               None  \n",
       "16                                               None  \n",
       "17                                               None  "
      ]
     },
     "execution_count": 114,
     "metadata": {},
     "output_type": "execute_result"
    }
   ],
   "source": [
    "df"
   ]
  },
  {
   "cell_type": "code",
   "execution_count": 115,
   "metadata": {},
   "outputs": [],
   "source": [
    "q_json = []"
   ]
  },
  {
   "cell_type": "code",
   "execution_count": 116,
   "metadata": {},
   "outputs": [
    {
     "data": {
      "text/plain": [
       "(int, 3)"
      ]
     },
     "execution_count": 116,
     "metadata": {},
     "output_type": "execute_result"
    }
   ],
   "source": [
    "type(yes_actions[3]),yes_actions[3]"
   ]
  },
  {
   "cell_type": "code",
   "execution_count": 117,
   "metadata": {},
   "outputs": [],
   "source": [
    "for index in range(len(steps)):\n",
    "    if questions[index] != None:\n",
    "        q_json.append({\n",
    "            \"question\": questions[index],\n",
    "            \"yes\": {\n",
    "                \"goto\": yes_actions[index] if type(yes_actions[index])== int else -1,\n",
    "                \"content\": None if type(yes_actions[index])!=str else yes_actions[index]\n",
    "            },\n",
    "            \"no\":{\n",
    "                \"goto\": no_actions[index] if type(no_actions[index])==int else -1,\n",
    "                \"content\": None if type(no_actions[index])!=str else no_actions[index]\n",
    "            }\n",
    "        })"
   ]
  },
  {
   "cell_type": "code",
   "execution_count": 118,
   "metadata": {},
   "outputs": [],
   "source": [
    "introduction,conclusion = steps[0],steps[-1]"
   ]
  },
  {
   "cell_type": "code",
   "execution_count": 119,
   "metadata": {},
   "outputs": [],
   "source": [
    "res = {\n",
    "    \"introduction\": introduction,\n",
    "    \"conclusion\": conclusion,\n",
    "    \"questions\": q_json\n",
    "}"
   ]
  },
  {
   "cell_type": "code",
   "execution_count": 120,
   "metadata": {},
   "outputs": [
    {
     "data": {
      "text/plain": [
       "{'introduction': \"To create a step-by-step guide for availing aid available for women affected by HIV without support in India, we'll break down the process into simple Yes/No questions. This guide will help navigate through the available support systems and how to access them.\",\n",
       " 'conclusion': \"- If you identified a need for medical, financial, or emotional support and followed the steps to access these services, you should now have a clearer understanding of how to avail the aid available for women affected by HIV without support in India.\\n- Remember, it's important to reach out and connect with the resources mentioned. Assistance is available, and taking the first step to access this aid can make a significant difference in managing HIV and improving your quality of life.\",\n",
       " 'questions': [{'question': 'Are you a woman affected by HIV?',\n",
       "   'yes': {'goto': 2, 'content': None},\n",
       "   'no': {'goto': -1,\n",
       "    'content': \"This guide is specifically for women affected by HIV in India. If you're seeking information for someone else, you can proceed to help them.\"}},\n",
       "  {'question': 'Do you lack support from family or community?',\n",
       "   'yes': {'goto': 3, 'content': None},\n",
       "   'no': {'goto': 3, 'content': None}},\n",
       "  {'question': 'Do you need medical support (treatment/medication)?',\n",
       "   'yes': {'goto': 4, 'content': None},\n",
       "   'no': {'goto': 5, 'content': None}},\n",
       "  {'question': 'Are you currently enrolled in any government or private health care program for HIV?',\n",
       "   'yes': {'goto': -1,\n",
       "    'content': 'Contact the program directly for further assistance.'},\n",
       "   'no': {'goto': -1,\n",
       "    'content': 'Proceed to the section on \"Accessing Medical Support\".'}},\n",
       "  {'question': 'Do you need financial assistance?',\n",
       "   'yes': {'goto': -1,\n",
       "    'content': 'Proceed to the section on \"Accessing Financial Assistance\".'},\n",
       "   'no': {'goto': 6, 'content': None}},\n",
       "  {'question': 'Do you need emotional or psychological support?',\n",
       "   'yes': {'goto': -1,\n",
       "    'content': 'Proceed to the section on \"Accessing Emotional Support\".'},\n",
       "   'no': {'goto': -1,\n",
       "    'content': 'If you do not need medical, financial, or emotional support, please specify your needs to find the appropriate aid.'}},\n",
       "  {'question': 'Visit the nearest government hospital or health care center.',\n",
       "   'yes': {'goto': -1, 'content': None},\n",
       "   'no': {'goto': -1, 'content': None}},\n",
       "  {'question': 'Apply for benefits under the National Social Assistance Programme (NSAP).',\n",
       "   'yes': {'goto': -1, 'content': None},\n",
       "   'no': {'goto': -1, 'content': None}},\n",
       "  {'question': 'Reach out to NGOs and support groups for women with HIV/AIDS.',\n",
       "   'yes': {'goto': -1, 'content': None},\n",
       "   'no': {'goto': -1, 'content': None}}]}"
      ]
     },
     "execution_count": 120,
     "metadata": {},
     "output_type": "execute_result"
    }
   ],
   "source": [
    "res"
   ]
  },
  {
   "cell_type": "markdown",
   "metadata": {},
   "source": [
    "#### Paragraph Type Formatting"
   ]
  },
  {
   "cell_type": "code",
   "execution_count": 55,
   "metadata": {},
   "outputs": [
    {
     "data": {
      "text/plain": [
       "['Yes.',\n",
       " 'In India, women affected by HIV without support can access aid through various government and non-governmental organizations (NGOs). The National AIDS Control Organization (NACO) under the Ministry of Health and Family Welfare provides free antiretroviral therapy (ART) to people living with HIV/AIDS, including women. Additionally, there are many NGOs and community-based organizations that offer support services such as counseling, healthcare, nutritional support, and legal aid to women affected by HIV. These organizations aim to improve the quality of life for women living with HIV, helping them to lead a life with dignity and respect. If someone needs this kind of support, they can reach out to the nearest HIV/AIDS counseling and testing center or look for NGOs working in this field in their area.']"
      ]
     },
     "execution_count": 55,
     "metadata": {},
     "output_type": "execute_result"
    }
   ],
   "source": [
    "response.split(\"\\n\\n\")"
   ]
  },
  {
   "cell_type": "code",
   "execution_count": 49,
   "metadata": {},
   "outputs": [
    {
     "data": {
      "text/plain": [
       "'Hello World'"
      ]
     },
     "execution_count": 49,
     "metadata": {},
     "output_type": "execute_result"
    }
   ],
   "source": [
    "import re\n",
    "headingRegex = re.compile(r'\\*\\*.*\\*\\*')\n",
    "headingRegex.search(\"Hello **Hello World** !\").group(0).split(\"**\")[1]"
   ]
  },
  {
   "cell_type": "code",
   "execution_count": 50,
   "metadata": {},
   "outputs": [],
   "source": [
    "paragraphs = response.split(\"\\n\\n\")\n",
    "paragraphs\n",
    "headings = []\n",
    "bodies = []\n",
    "for i,para in enumerate(paragraphs):\n",
    "    if i==0:\n",
    "        headings.append(\"Introduction\")\n",
    "        bodies.append(para)\n",
    "    elif i==len(paragraphs)-1:\n",
    "        headings.append(\"Conclusion\")\n",
    "        bodies.append(para)\n",
    "    else:\n",
    "        headings.append(headingRegex.search(para).group(0).split(\"**\")[1])\n",
    "        pts = [x.split(\"\\n\")[0] for x in para.split(\"  - \")[1:]]\n",
    "        temp = \"\"\n",
    "        for pt in pts:\n",
    "            temp+=pt\n",
    "            temp+=\" \"\n",
    "        bodies.append(temp)"
   ]
  },
  {
   "cell_type": "code",
   "execution_count": 51,
   "metadata": {},
   "outputs": [
    {
     "data": {
      "text/plain": [
       "(['Introduction',\n",
       "  'Medical Support:',\n",
       "  'Financial Aid:',\n",
       "  'Nutritional Support:',\n",
       "  'Educational and Vocational Training:',\n",
       "  'Legal Aid:',\n",
       "  'Psychosocial Support:',\n",
       "  'Child Care and Support:',\n",
       "  'Awareness and Education Programs:',\n",
       "  'Conclusion'],\n",
       " [\"In India, women affected by HIV without support can access various forms of aid to help them cope with their condition and improve their quality of life. Here's a breakdown of the types of assistance available:\",\n",
       "  'Free or subsidized treatment at government hospitals and clinics, including antiretroviral therapy (ART) which helps manage the virus. Counseling services to help them understand their health condition and adhere to treatment plans. ',\n",
       "  'Government schemes that provide financial assistance to people living with HIV/AIDS, helping them cover their medical and daily living expenses. NGOs and other organizations may offer financial support or resources to help with education, housing, and nutrition needs. ',\n",
       "  'Access to nutrition rehabilitation centers and programs that offer dietary supplements and nutrition advice to improve their health status. ',\n",
       "  'Programs aimed at providing education and vocational training to women affected by HIV, helping them gain skills for employment and become financially independent. ',\n",
       "  'Free legal services to protect their rights and help them deal with discrimination or stigma related to their HIV status. This includes assistance with employment issues, housing, and healthcare rights. ',\n",
       "  'Counseling and support groups that offer emotional support, helping them deal with the psychological impact of living with HIV. Workshops and meetings that provide information on living a healthy life with HIV, and connecting them with others facing similar challenges. ',\n",
       "  \"Programs that offer support to HIV-affected women with children, ensuring the children's nutritional, educational, and health needs are met. Initiatives that prevent mother-to-child transmission of HIV during pregnancy and childbirth. \",\n",
       "  'Campaigns and workshops aimed at educating women on HIV prevention, treatment options, and how to live positively with the virus. Information on how to prevent the spread of HIV to others and reduce the stigma associated with the condition. ',\n",
       "  \"Women affected by HIV in India can seek help from various government bodies, non-governmental organizations (NGOs), community-based organizations (CBOs), and support groups dedicated to providing care and assistance to people living with HIV/AIDS. It's important for them to reach out to local health centers, HIV/AIDS helplines, or NGOs working in this field to access the support and resources available to them.\"])"
      ]
     },
     "execution_count": 51,
     "metadata": {},
     "output_type": "execute_result"
    }
   ],
   "source": [
    "headings,bodies"
   ]
  }
 ],
 "metadata": {
  "kernelspec": {
   "display_name": ".venv",
   "language": "python",
   "name": "python3"
  },
  "language_info": {
   "codemirror_mode": {
    "name": "ipython",
    "version": 3
   },
   "file_extension": ".py",
   "mimetype": "text/x-python",
   "name": "python",
   "nbconvert_exporter": "python",
   "pygments_lexer": "ipython3",
   "version": "3.12.3"
  }
 },
 "nbformat": 4,
 "nbformat_minor": 2
}
